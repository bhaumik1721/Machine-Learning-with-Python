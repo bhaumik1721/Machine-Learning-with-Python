{
 "cells": [
  {
   "cell_type": "markdown",
   "id": "880288df-42c0-42ce-9a5b-db125800a7a5",
   "metadata": {},
   "source": [
    "Importing Libraries"
   ]
  },
  {
   "cell_type": "code",
   "execution_count": 28,
   "id": "0c169c0e-839b-4975-a082-adfeb8ab7070",
   "metadata": {},
   "outputs": [],
   "source": [
    "import numpy as np\n",
    "import pandas as pd\n",
    "import sklearn\n",
    "import matplotlib.pyplot as plt"
   ]
  },
  {
   "cell_type": "markdown",
   "id": "073951ba-a3fb-45c0-be9e-459de9134085",
   "metadata": {},
   "source": [
    "Importing the Dataset"
   ]
  },
  {
   "cell_type": "code",
   "execution_count": 29,
   "id": "0b6c4add-eb04-4cb6-80ca-55d4916dcab1",
   "metadata": {},
   "outputs": [],
   "source": [
    "df = pd.read_csv(\"C:/Users/bhaumik/Downloads/4_SalaryEstimator_K-NearestNeighbour/4_SalaryEstimator_K-NearestNeighbour/salary.csv\")"
   ]
  },
  {
   "cell_type": "markdown",
   "id": "8abc0a4f-3c97-46fb-b3d6-0af64525be90",
   "metadata": {},
   "source": [
    "Preprocessing the Dataset"
   ]
  },
  {
   "cell_type": "code",
   "execution_count": 30,
   "id": "51318422-a78d-4372-a7dd-cddb57e7d29b",
   "metadata": {},
   "outputs": [
    {
     "data": {
      "text/html": [
       "<div>\n",
       "<style scoped>\n",
       "    .dataframe tbody tr th:only-of-type {\n",
       "        vertical-align: middle;\n",
       "    }\n",
       "\n",
       "    .dataframe tbody tr th {\n",
       "        vertical-align: top;\n",
       "    }\n",
       "\n",
       "    .dataframe thead th {\n",
       "        text-align: right;\n",
       "    }\n",
       "</style>\n",
       "<table border=\"1\" class=\"dataframe\">\n",
       "  <thead>\n",
       "    <tr style=\"text-align: right;\">\n",
       "      <th></th>\n",
       "      <th>age</th>\n",
       "      <th>education.num</th>\n",
       "      <th>capital.gain</th>\n",
       "      <th>hours.per.week</th>\n",
       "      <th>income</th>\n",
       "    </tr>\n",
       "  </thead>\n",
       "  <tbody>\n",
       "    <tr>\n",
       "      <th>0</th>\n",
       "      <td>90</td>\n",
       "      <td>9</td>\n",
       "      <td>0</td>\n",
       "      <td>40</td>\n",
       "      <td>&lt;=50K</td>\n",
       "    </tr>\n",
       "    <tr>\n",
       "      <th>1</th>\n",
       "      <td>82</td>\n",
       "      <td>9</td>\n",
       "      <td>0</td>\n",
       "      <td>18</td>\n",
       "      <td>&lt;=50K</td>\n",
       "    </tr>\n",
       "    <tr>\n",
       "      <th>2</th>\n",
       "      <td>66</td>\n",
       "      <td>10</td>\n",
       "      <td>0</td>\n",
       "      <td>40</td>\n",
       "      <td>&lt;=50K</td>\n",
       "    </tr>\n",
       "    <tr>\n",
       "      <th>3</th>\n",
       "      <td>54</td>\n",
       "      <td>4</td>\n",
       "      <td>0</td>\n",
       "      <td>40</td>\n",
       "      <td>&lt;=50K</td>\n",
       "    </tr>\n",
       "    <tr>\n",
       "      <th>4</th>\n",
       "      <td>41</td>\n",
       "      <td>10</td>\n",
       "      <td>0</td>\n",
       "      <td>40</td>\n",
       "      <td>&lt;=50K</td>\n",
       "    </tr>\n",
       "  </tbody>\n",
       "</table>\n",
       "</div>"
      ],
      "text/plain": [
       "   age  education.num  capital.gain  hours.per.week income\n",
       "0   90              9             0              40  <=50K\n",
       "1   82              9             0              18  <=50K\n",
       "2   66             10             0              40  <=50K\n",
       "3   54              4             0              40  <=50K\n",
       "4   41             10             0              40  <=50K"
      ]
     },
     "execution_count": 30,
     "metadata": {},
     "output_type": "execute_result"
    }
   ],
   "source": [
    "df.head()"
   ]
  },
  {
   "cell_type": "code",
   "execution_count": 31,
   "id": "7bd774d8-752b-4f38-a450-edc5c4b2e6eb",
   "metadata": {},
   "outputs": [
    {
     "data": {
      "text/plain": [
       "(32561, 5)"
      ]
     },
     "execution_count": 31,
     "metadata": {},
     "output_type": "execute_result"
    }
   ],
   "source": [
    "df.shape"
   ]
  },
  {
   "cell_type": "markdown",
   "id": "f4a73aa5-15d5-448f-b278-6cddc440d962",
   "metadata": {},
   "source": [
    "Finding Unique values and Mapping them"
   ]
  },
  {
   "cell_type": "code",
   "execution_count": 32,
   "id": "dd8dc937-1eab-4584-b194-651fda99e5c2",
   "metadata": {},
   "outputs": [
    {
     "name": "stdout",
     "output_type": "stream",
     "text": [
      "['<=50K' '>50K']\n"
     ]
    }
   ],
   "source": [
    "print(df.income.unique())"
   ]
  },
  {
   "cell_type": "code",
   "execution_count": 33,
   "id": "1d32088f-1c59-43f8-b793-c4f536d1ca74",
   "metadata": {},
   "outputs": [],
   "source": [
    "df['income'] = df['income'].map({'<=50K':0, '>50K':1}).astype(int)"
   ]
  },
  {
   "cell_type": "code",
   "execution_count": 34,
   "id": "ee90fc09-51b7-4414-9458-f2674605e224",
   "metadata": {},
   "outputs": [
    {
     "data": {
      "text/html": [
       "<div>\n",
       "<style scoped>\n",
       "    .dataframe tbody tr th:only-of-type {\n",
       "        vertical-align: middle;\n",
       "    }\n",
       "\n",
       "    .dataframe tbody tr th {\n",
       "        vertical-align: top;\n",
       "    }\n",
       "\n",
       "    .dataframe thead th {\n",
       "        text-align: right;\n",
       "    }\n",
       "</style>\n",
       "<table border=\"1\" class=\"dataframe\">\n",
       "  <thead>\n",
       "    <tr style=\"text-align: right;\">\n",
       "      <th></th>\n",
       "      <th>age</th>\n",
       "      <th>education.num</th>\n",
       "      <th>capital.gain</th>\n",
       "      <th>hours.per.week</th>\n",
       "      <th>income</th>\n",
       "    </tr>\n",
       "  </thead>\n",
       "  <tbody>\n",
       "    <tr>\n",
       "      <th>0</th>\n",
       "      <td>90</td>\n",
       "      <td>9</td>\n",
       "      <td>0</td>\n",
       "      <td>40</td>\n",
       "      <td>0</td>\n",
       "    </tr>\n",
       "    <tr>\n",
       "      <th>1</th>\n",
       "      <td>82</td>\n",
       "      <td>9</td>\n",
       "      <td>0</td>\n",
       "      <td>18</td>\n",
       "      <td>0</td>\n",
       "    </tr>\n",
       "    <tr>\n",
       "      <th>2</th>\n",
       "      <td>66</td>\n",
       "      <td>10</td>\n",
       "      <td>0</td>\n",
       "      <td>40</td>\n",
       "      <td>0</td>\n",
       "    </tr>\n",
       "    <tr>\n",
       "      <th>3</th>\n",
       "      <td>54</td>\n",
       "      <td>4</td>\n",
       "      <td>0</td>\n",
       "      <td>40</td>\n",
       "      <td>0</td>\n",
       "    </tr>\n",
       "    <tr>\n",
       "      <th>4</th>\n",
       "      <td>41</td>\n",
       "      <td>10</td>\n",
       "      <td>0</td>\n",
       "      <td>40</td>\n",
       "      <td>0</td>\n",
       "    </tr>\n",
       "  </tbody>\n",
       "</table>\n",
       "</div>"
      ],
      "text/plain": [
       "   age  education.num  capital.gain  hours.per.week  income\n",
       "0   90              9             0              40       0\n",
       "1   82              9             0              18       0\n",
       "2   66             10             0              40       0\n",
       "3   54              4             0              40       0\n",
       "4   41             10             0              40       0"
      ]
     },
     "execution_count": 34,
     "metadata": {},
     "output_type": "execute_result"
    }
   ],
   "source": [
    "df.head()"
   ]
  },
  {
   "cell_type": "markdown",
   "id": "7f89701b-f6c4-4564-96ec-43db64a88921",
   "metadata": {},
   "source": [
    "Segregating X & Y"
   ]
  },
  {
   "cell_type": "code",
   "execution_count": 35,
   "id": "371a180a-5c3b-4cf5-9d0f-3298053e4ed6",
   "metadata": {},
   "outputs": [
    {
     "name": "stdout",
     "output_type": "stream",
     "text": [
      "[[90  9  0 40]\n",
      " [82  9  0 18]\n",
      " [66 10  0 40]\n",
      " ...\n",
      " [40  9  0 40]\n",
      " [58  9  0 40]\n",
      " [22  9  0 20]]\n",
      "[0 0 0 ... 1 0 0]\n"
     ]
    }
   ],
   "source": [
    "X = df.iloc[:, :-1].values\n",
    "Y = df.iloc[:, -1].values\n",
    "print(X)\n",
    "print(Y)"
   ]
  },
  {
   "cell_type": "markdown",
   "id": "8c595ca0-6f80-4a9b-90ef-06c465a8f5d0",
   "metadata": {},
   "source": [
    "Train , Test , Split"
   ]
  },
  {
   "cell_type": "code",
   "execution_count": 36,
   "id": "90142c7c-fe9d-4796-ac81-602958932fac",
   "metadata": {},
   "outputs": [],
   "source": [
    "from sklearn.model_selection import train_test_split\n",
    "X_train, X_test , y_train , y_test = train_test_split(X ,Y , test_size = 0.20 )"
   ]
  },
  {
   "cell_type": "markdown",
   "id": "344d7018-d1b5-4419-995a-e46b5a703c60",
   "metadata": {},
   "source": [
    "Standardization of Dataset"
   ]
  },
  {
   "cell_type": "raw",
   "id": "24b34bbe-64f6-4c09-9950-668d1d777901",
   "metadata": {},
   "source": [
    "from sklearn.preprocessing import StandardScaler\n",
    "sc = StandardScaler()\n",
    "X_train = sc.fit(X_train)\n",
    "Xtest = sc.fit(X_test)"
   ]
  },
  {
   "cell_type": "markdown",
   "id": "43a85472",
   "metadata": {},
   "source": [
    "finding the best K- value\n"
   ]
  },
  {
   "cell_type": "code",
   "execution_count": 37,
   "id": "23cb8c44",
   "metadata": {
    "scrolled": true
   },
   "outputs": [
    {
     "data": {
      "text/plain": [
       "Text(0, 0.5, 'mean error')"
      ]
     },
     "execution_count": 37,
     "metadata": {},
     "output_type": "execute_result"
    },
    {
     "data": {
      "image/png": "[encoded data removed]",
      "text/plain": [
       "<Figure size 1200x600 with 1 Axes>"
      ]
     },
     "metadata": {},
     "output_type": "display_data"
    }
   ],
   "source": [
    "error = []\n",
    "for i in range (1,20):\n",
    "    from sklearn.neighbors import KNeighborsClassifier\n",
    "    knn = KNeighborsClassifier(n_neighbors= i).fit(X_train, y_train) \n",
    "    pred_i = knn.predict(X_test)\n",
    "    error.append(np.mean(pred_i != y_test))\n",
    "    knn\n",
    "plt.figure(figsize= (12, 6))\n",
    "plt.plot(range(1,20),error , color =\"red\",linestyle = \"dashed\", marker = \"o\", markerfacecolor=\"blue\",markersize = 10)\n",
    "plt.title(\"error size K value\")\n",
    "plt.xlabel(\"k value\")\n",
    "plt.ylabel(\"mean error\")\n"
   ]
  },
  {
   "cell_type": "markdown",
   "id": "1bd814b2-82ef-4b01-b525-329d1aca1f1a",
   "metadata": {},
   "source": [
    "Training the Model"
   ]
  },
  {
   "cell_type": "code",
   "execution_count": 42,
   "id": "dbd5eba1",
   "metadata": {},
   "outputs": [],
   "source": [
    "knn = KNeighborsClassifier(n_neighbors= 10, metric = \"minkowski\", p = 2).fit(X_train, y_train)\n",
    "knn\n",
    "yhat = knn.predict(X_test)"
   ]
  },
  {
   "cell_type": "code",
   "execution_count": 40,
   "id": "0a7317ba",
   "metadata": {},
   "outputs": [
    {
     "name": "stdout",
     "output_type": "stream",
     "text": [
      "enter new employee age: 24\n",
      "enter new employee education: 8\n",
      "enter new employee capital gain: 0\n",
      "enter new employee hours: 40\n",
      "[0]\n",
      "employee might get salary below 50k\n"
     ]
    }
   ],
   "source": [
    "from sklearn.preprocessing import StandardScaler\n",
    "sc = StandardScaler()\n",
    "age = int(input(\"enter new employee age: \"))\n",
    "edu = int(input(\"enter new employee education: \")) \n",
    "cg  = int(input(\"enter new employee capital gain: \"))\n",
    "hw = int(input(\"enter new employee hours: \"))\n",
    "newEmp = [[age,edu,cg,hw]]\n",
    "result = knn.predict(newEmp)\n",
    "print(result)\n",
    "\n",
    "if result == 1:\n",
    "    print(\"employee might get salary above 50k\")\n",
    "else:\n",
    "    print(\"employee might get salary below 50k\")"
   ]
  },
  {
   "cell_type": "code",
   "execution_count": 43,
   "id": "f72ef173-371d-45fd-b016-ef120151431f",
   "metadata": {},
   "outputs": [
    {
     "name": "stdout",
     "output_type": "stream",
     "text": [
      "Train set Accuracy:  0.8364941646191646\n",
      "Test set Accuracy:  0.8177491171503147\n",
      "confusion matrix:  [[4698  278]\n",
      " [ 909  628]]\n"
     ]
    }
   ],
   "source": [
    "from sklearn import metrics\n",
    "print(\"Train set Accuracy: \", metrics.accuracy_score(y_train, knn.predict(X_train)))\n",
    "print(\"Test set Accuracy: \", metrics.accuracy_score(y_test, yhat))\n",
    "print(\"confusion matrix: \",metrics.confusion_matrix(y_test,yhat))"
   ]
  },
  {
   "cell_type": "code",
   "execution_count": null,
   "id": "d6925041-77f7-4b9a-b80f-f48dd62f8417",
   "metadata": {},
   "outputs": [],
   "source": []
  }
 ],
 "metadata": {
  "kernelspec": {
   "display_name": "Python 3 (ipykernel)",
   "language": "python",
   "name": "python3"
  },
  "language_info": {
   "codemirror_mode": {
    "name": "ipython",
    "version": 3
   },
   "file_extension": ".py",
   "mimetype": "text/x-python",
   "name": "python",
   "nbconvert_exporter": "python",
   "pygments_lexer": "ipython3",
   "version": "3.11.4"
  }
 },
 "nbformat": 4,
 "nbformat_minor": 5
}
